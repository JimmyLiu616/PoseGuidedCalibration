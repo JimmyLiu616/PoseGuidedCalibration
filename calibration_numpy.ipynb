{
 "cells": [
  {
   "cell_type": "markdown",
   "metadata": {},
   "source": [
    "Imports"
   ]
  },
  {
   "cell_type": "code",
   "execution_count": 20,
   "metadata": {},
   "outputs": [],
   "source": [
    "import torch\n",
    "import re\n",
    "import numpy as np\n",
    "import subprocess\n",
    "import os\n",
    "from scipy.optimize import least_squares"
   ]
  },
  {
   "cell_type": "markdown",
   "metadata": {},
   "source": [
    "# Get K1 and K2 (Checkerboard)\n",
    "\n",
    "opens camera and performs camera calibration using the checkerboard."
   ]
  },
  {
   "cell_type": "code",
   "execution_count": 21,
   "metadata": {},
   "outputs": [],
   "source": [
    "# # Path to the Python script\n",
    "# script_path = 'Camera-Calibration/calibration_GUI.py'\n",
    "\n",
    "# def calibrate(camera_num): \n",
    "#     \"\"\"\n",
    "#     Calibrates camera(camera_num) by running the calibration_GUI script.\n",
    "    \n",
    "#     :param camera_num: the number of the camera. (needs to be a string)\n",
    "#     :return: intrinsic matrix K\n",
    "#     \"\"\"\n",
    "#     # Run the script and capture the output\n",
    "#     output = subprocess.check_output(['python', script_path, '--cam_num', camera_num])\n",
    "\n",
    "#     # Decode the output and process it to extract the matrix A\n",
    "#     output_str = output.decode('utf-8').strip()\n",
    "\n",
    "#     cleaned_output = output_str.replace('[', '').replace(']', '').replace(',', '').strip()\n",
    "\n",
    "#     return cleaned_output\n",
    "\n",
    "# # since we use a+, if we don't delete the file manually, it will write again and again.\n",
    "# if os.path.exists(\"./output/intrinsic.txt\"): \n",
    "# \tos.remove(\"./output/intrinsic.txt\")\n",
    "\t\n",
    "# if os.path.exists(\"./output/extrinsic.txt\"):\n",
    "# \tos.remove(\"./output/extrinsic.txt\")\n",
    "\n",
    "# A = np.array([list(map(float, row.split())) for row in calibrate(\"0\").splitlines()])\n",
    "# K1 = A\n",
    "# A = np.array([list(map(float, row.split())) for row in calibrate(\"2\").splitlines()])\n",
    "# K2 = A\n",
    "\n",
    "# K1[0][1] = 0 # set skew(distortion to 0)\n",
    "# K2[0][1] = 0\n",
    "# # Use A as needed\n",
    "# print(\"Intrinsic Matrix K1:\", K1,\"\\nIntrinsic Matrix K2:\", K2)\n"
   ]
  },
  {
   "cell_type": "markdown",
   "metadata": {},
   "source": [
    "# Extract K1 and K2 from txt file\n",
    "\n",
    "for convenience, extract the intrinsics from the txt files."
   ]
  },
  {
   "cell_type": "code",
   "execution_count": 22,
   "metadata": {},
   "outputs": [
    {
     "name": "stdout",
     "output_type": "stream",
     "text": [
      "K1: \n",
      "[[294.69022161   0.         432.79487108]\n",
      " [  0.         282.0225284  240.17817173]\n",
      " [  0.           0.           1.        ]]\n",
      "K2: \n",
      "[[314.16943092   0.         383.56227906]\n",
      " [  0.         299.69405192 266.91023375]\n",
      " [  0.           0.           1.        ]]\n"
     ]
    }
   ],
   "source": [
    "with open('output/intrinsic.txt', 'r') as f:\n",
    "    K = f.read()\n",
    "numbers1 = re.findall(r\"[-+]?\\d*\\.\\d+|\\d+\", K)\n",
    "\n",
    "list_K = [float(num) for num in numbers1]\n",
    "K1 = np.array(list_K[:9]).reshape(3,3)\n",
    "K2 = np.array(list_K[9:]).reshape(3,3)\n",
    "\n",
    "# Set skew(distortion to 0)\n",
    "K1[0][1] = 0 \n",
    "K2[0][1] = 0\n",
    "\n",
    "# Print out the Ks\n",
    "print(f\"K1: \\n{K1}\")\n",
    "print(f\"K2: \\n{K2}\")"
   ]
  },
  {
   "cell_type": "markdown",
   "metadata": {},
   "source": [
    "Extract the fx, fy, u0, v0 (focal lengths and principal point from both K)"
   ]
  },
  {
   "cell_type": "code",
   "execution_count": 23,
   "metadata": {},
   "outputs": [
    {
     "name": "stdout",
     "output_type": "stream",
     "text": [
      "K1_params: [np.float64(294.69022161), np.float64(282.0225284), np.float64(432.79487108), np.float64(240.17817173)]\n",
      "K2_params: [np.float64(314.16943092), np.float64(299.69405192), np.float64(383.56227906), np.float64(266.91023375)]\n"
     ]
    }
   ],
   "source": [
    "K1_params = [K1[0, 0], K1[1, 1], K1[0, 2], K1[1, 2]]\n",
    "\n",
    "print(\"K1_params:\", K1_params)\n",
    "\n",
    "K2_params = [K2[0, 0], K2[1, 1], K2[0, 2], K2[1, 2]]\n",
    "\n",
    "print(\"K2_params:\", K2_params)"
   ]
  },
  {
   "cell_type": "markdown",
   "metadata": {},
   "source": [
    "# Extract matches from txt files\n",
    "\n",
    "txt file containing the matches is called `cam_match.txt`"
   ]
  },
  {
   "cell_type": "code",
   "execution_count": 24,
   "metadata": {},
   "outputs": [
    {
     "name": "stdout",
     "output_type": "stream",
     "text": [
      "c:\\Users\\70929\\PoseGuidedCalibration\\PoseGuidedCalibration\n"
     ]
    }
   ],
   "source": [
    "import os\n",
    "print(os.getcwd())\n"
   ]
  },
  {
   "cell_type": "code",
   "execution_count": 25,
   "metadata": {},
   "outputs": [],
   "source": [
    "with open('data/cam_match.txt', 'r') as file:\n",
    "    content = file.read()"
   ]
  },
  {
   "cell_type": "code",
   "execution_count": 33,
   "metadata": {},
   "outputs": [
    {
     "name": "stdout",
     "output_type": "stream",
     "text": [
      "Homonymous Points:\n",
      "\n",
      "[]\n"
     ]
    }
   ],
   "source": [
    "with open('data/cam_match.txt', 'r') as file:\n",
    "    content = file.read()\n",
    "def extract_homonymous_pairs(content, threshold):\n",
    "    \"\"\"\n",
    "    Extracts keypoint pairs with confidence higher than a given threshold.\n",
    "    \n",
    "    :param list_keypoints: List of keypoints in format [x, y], [x1, y1], [confidence]\n",
    "    :param threshold: Confidence threshold\n",
    "    :return: Filtered coordinates as a numpy array\n",
    "    \"\"\"\n",
    "    lines = content.strip().splitlines()\n",
    "    pattern = re.compile(r'\\[(\\d+), (\\d+)\\], \\[(\\d+), (\\d+)\\], \\[(\\d+\\.\\d+)\\]')\n",
    "    matches_final = []\n",
    "\n",
    "    for i, line in enumerate(lines):\n",
    "        bruh = []\n",
    "        matches = pattern.findall(line)\n",
    "\n",
    "        for j, match in enumerate(matches):\n",
    "            keypoint1 = [int(match[0]), int(match[1])]\n",
    "            x0 = keypoint1[0]\n",
    "            y0 = keypoint1[1]\n",
    "            keypoint2 = [int(match[2]), int(match[3])]\n",
    "            x1 = keypoint2[0]\n",
    "            y1 = keypoint2[1]\n",
    "            confidence = float(match[4])\n",
    "\n",
    "            if confidence > threshold:\n",
    "                \n",
    "                bruh.append([x0, y0, x1, y1])\n",
    "                print(f\"Keypoint 1({j}): {keypoint1}, Keypoint 2({j}): {keypoint2}, Confidence: {confidence}\")\n",
    "        # print(f\"{i} : {bruh}\")\n",
    "        if bruh:\n",
    "            matches_final.append(bruh)\n",
    "            print(f\"(image {i})\\n\")\n",
    "\n",
    "        \n",
    "    return matches_final\n",
    "\n",
    "print(\"Homonymous Points:\\n\")\n",
    "matches_final = extract_homonymous_pairs(content, 0.4)\n",
    "print(matches_final)\n"
   ]
  },
  {
   "cell_type": "markdown",
   "metadata": {},
   "source": [
    "# Fundamental & Essential Matrix Functions\n",
    "\n",
    "below are the functions used for calculating the fundamental and essential matrices"
   ]
  },
  {
   "cell_type": "code",
   "execution_count": 29,
   "metadata": {},
   "outputs": [],
   "source": [
    "def compute_fundamental_matrix(correspondences):\n",
    "    \"\"\"\n",
    "    Compute the fundamental matrix F using the 8-point algorithm.\n",
    "\n",
    "    :params: correspondences: Nx4 array of corresponding points [u1, v1, u2, v2]\n",
    "    :return: fundamental matrix \"F\"\n",
    "    \"\"\"\n",
    "    A = []\n",
    "    for u1, v1, u2, v2 in correspondences: # [1 X 9] matrix\n",
    "        A.append([u1*u2, u1*v2, u1, v1*u2, v1*v2, v1, u2, v2, 1]) # there's a '1' because of the homogeneous equation\n",
    "    A = np.array(A)\n",
    "\n",
    "    # Af = 0 using SVD\n",
    "    _, _, V = np.linalg.svd(A)\n",
    "\n",
    "    # print(f\"initial V = {V}\")\n",
    "    F = V[-1].reshape(3, 3) #found in the right singular vector corresponding to the smallest singular value\n",
    "\n",
    "    # rank 2 constraint\n",
    "    U, S, V = np.linalg.svd(F)\n",
    "\n",
    "    # print(f\"s = {S}\\n\")\n",
    "\n",
    "    S[2] = 0\n",
    "    F = U @ np.diag(S) @ V\n",
    "    \n",
    "    return F / F[2,2]  # Normalize\n",
    "\n",
    "# for i, match in enumerate(matches_final):\n",
    "#     print(match)\n",
    "#     F = compute_fundamental_matrix(match)\n",
    "#     print(f\"F{i} = {F}\")\n"
   ]
  },
  {
   "cell_type": "code",
   "execution_count": 30,
   "metadata": {},
   "outputs": [],
   "source": [
    "def compute_essential_matrix(F, K1, K2):\n",
    "    \"\"\"\n",
    "    Compute the essential matrix E from F and camera intrinsics.\n",
    "    F: 3x3 fundamental matrix\n",
    "    K1, K2: 3x3 intrinsic camera matrices\n",
    "    \"\"\"\n",
    "    E = K2.T @ F @ K1\n",
    "    return E"
   ]
  },
  {
   "cell_type": "markdown",
   "metadata": {},
   "source": [
    "Main loop for calculating Fundamental and Essential matrices"
   ]
  },
  {
   "cell_type": "code",
   "execution_count": 31,
   "metadata": {},
   "outputs": [
    {
     "ename": "IndexError",
     "evalue": "list index out of range",
     "output_type": "error",
     "traceback": [
      "\u001b[31m---------------------------------------------------------------------------\u001b[39m",
      "\u001b[31mIndexError\u001b[39m                                Traceback (most recent call last)",
      "\u001b[36mCell\u001b[39m\u001b[36m \u001b[39m\u001b[32mIn[31]\u001b[39m\u001b[32m, line 6\u001b[39m\n\u001b[32m      3\u001b[39m choice = \u001b[32m8\u001b[39m\n\u001b[32m      5\u001b[39m \u001b[38;5;66;03m# Calculate the fundamental matrix with the 8-point algorithm\u001b[39;00m\n\u001b[32m----> \u001b[39m\u001b[32m6\u001b[39m match = \u001b[43mmatches_final\u001b[49m\u001b[43m[\u001b[49m\u001b[43mchoice\u001b[49m\u001b[43m]\u001b[49m\n\u001b[32m      7\u001b[39m \u001b[38;5;28mprint\u001b[39m(\u001b[33mf\u001b[39m\u001b[33m\"\u001b[39m\u001b[33mmatches for image \u001b[39m\u001b[38;5;132;01m{\u001b[39;00mchoice\u001b[38;5;132;01m}\u001b[39;00m\u001b[33m:\u001b[39m\u001b[38;5;130;01m\\n\u001b[39;00m\u001b[38;5;132;01m{\u001b[39;00mmatch\u001b[38;5;132;01m}\u001b[39;00m\u001b[38;5;130;01m\\n\u001b[39;00m\u001b[33m\"\u001b[39m)\n\u001b[32m      9\u001b[39m F = compute_fundamental_matrix(match)\n",
      "\u001b[31mIndexError\u001b[39m: list index out of range"
     ]
    }
   ],
   "source": [
    "# Prompt user for image number\n",
    "# choice = int(input(\"Image number? (start from 0)\"))\n",
    "choice = 8\n",
    "\n",
    "# Calculate the fundamental matrix with the 8-point algorithm\n",
    "match = matches_final[choice]\n",
    "print(f\"matches for image {choice}:\\n{match}\\n\")\n",
    "\n",
    "F = compute_fundamental_matrix(match)\n",
    "print(f\"F = \\n{F}\")\n",
    "\n",
    "# Calculate the essential matrix\n",
    "E = compute_essential_matrix(F, K1, K2)\n",
    "print(f\"\\nE = \\n{E}\")"
   ]
  },
  {
   "cell_type": "markdown",
   "metadata": {},
   "source": [
    "Handling the coordinates and splitting them to their respective lists\n",
    "&\n",
    "Convert it into homogeneous form"
   ]
  },
  {
   "cell_type": "code",
   "execution_count": null,
   "metadata": {},
   "outputs": [],
   "source": [
    "points2d_1 = []  # 2D points from first camera\n",
    "points2d_2 = []  # Corresponding 2D points from second camera\n",
    "for x1,y1,x2,y2 in match:\n",
    "    points2d_1.append([x1,y1])\n",
    "    points2d_2.append([x2,y2])\n",
    "\n",
    "# Convert it into a numpy array\n",
    "X1 = np.array(points2d_1)\n",
    "X2 = np.array(points2d_2)\n",
    "\n",
    "# convert it into a homogeneous point\n",
    "X1_homogeneous = np.hstack([X1, np.ones((X1.shape[0], 1))])\n",
    "X2_homogeneous = np.hstack([X2, np.ones((X2.shape[0], 1))])\n",
    "print(f\"X1 (homogeneous): \\n {X1_homogeneous}\\n\")\n",
    "print(f\"X2 (homogeneous): \\n {X2_homogeneous}\") "
   ]
  },
  {
   "cell_type": "markdown",
   "metadata": {},
   "source": [
    "# Decompose Essential Matrix\n",
    "\n",
    "With 4 combinations of R and t, choose the best one."
   ]
  },
  {
   "cell_type": "code",
   "execution_count": null,
   "metadata": {},
   "outputs": [],
   "source": [
    "def decompose_essential_matrix(E):\n",
    "    \"\"\"\n",
    "    Perform Singular Value Decomposition (SVD) of the essential matrix.\n",
    "    \n",
    "    :params: E: Essential Matrix.\n",
    "    :return: X: Array of 3D points in homogeneous coordinates, shape (N, 4).\n",
    "    \"\"\"\n",
    "    U, _, Vt = np.linalg.svd(E)\n",
    "\n",
    "    # Ensure we have a proper rotation matrix\n",
    "    if np.linalg.det(U) < 0:\n",
    "        U[:, -1] *= -1\n",
    "    if np.linalg.det(Vt) < 0:\n",
    "        Vt[-1, :] *= -1\n",
    "\n",
    "    # Possible rotation matrices from the decomposition\n",
    "    W = np.array([[0, -1, 0], \n",
    "                  [1,  0, 0], \n",
    "                  [0,  0, 1]])\n",
    "\n",
    "    # Two possible rotations\n",
    "    R1 = U @ W @ Vt\n",
    "    R2 = U @ W.T @ Vt\n",
    "\n",
    "    # Two possible translations (up to scale, so we use the third column of U)\n",
    "    t1 = U[:, 2]\n",
    "    t2 = -U[:, 2]\n",
    "\n",
    "    return R1, R2, t1, t2\n",
    "\n",
    "# Decompose the essential matrix\n",
    "R1, R2, t1, t2 = decompose_essential_matrix(E)\n",
    "\n",
    "# Output the four possible solutions\n",
    "print(\"Possible solutions for R and t:\")\n",
    "print(\"R1:\\n\", R1)\n",
    "print(\"t1:\\n\", t1)\n",
    "print(\"R2:\\n\", R2)\n",
    "print(\"t2:\\n\", t2)"
   ]
  },
  {
   "cell_type": "markdown",
   "metadata": {},
   "source": [
    "# Triangulate Point\n",
    "\n",
    "Get the 3D point(x, y, z, 1) in homogeneous coordinates by triangulating the 2D points."
   ]
  },
  {
   "cell_type": "code",
   "execution_count": 12,
   "metadata": {},
   "outputs": [],
   "source": [
    "def triangulate_points(x1, x2, P1, P2):\n",
    "    \"\"\"Triangulates 3D points from corresponding 2D points in two images.\n",
    "    \n",
    "    Args:\n",
    "    x1: Array of 2D points in the first image (homogeneous coordinates), shape (N, 3).\n",
    "    x2: Array of 2D points in the second image (homogeneous coordinates), shape (N, 3).\n",
    "    P1: Projection matrix of the first camera, shape (3, 4).\n",
    "    P2: Projection matrix of the second camera, shape (3, 4).\n",
    "    \n",
    "    Returns:\n",
    "    X: Array of 3D points in homogeneous coordinates, shape (N, 4).\n",
    "    \"\"\"\n",
    "    assert x1.shape == x2.shape, \"x1 and x2 must have the same shape.\"\n",
    "    \n",
    "    # Initialize list to store the 3D points\n",
    "    X = []\n",
    "\n",
    "    # Iterate over pairs of points\n",
    "    for i in range(x1.shape[0]):\n",
    "        # Construct matrix A for homogeneous equation system\n",
    "        A = np.zeros((4, 4))\n",
    "        A[0] = x1[i, 0] * P1[2] - P1[0]\n",
    "        A[1] = x1[i, 1] * P1[2] - P1[1]\n",
    "        A[2] = x2[i, 0] * P2[2] - P2[0]\n",
    "        A[3] = x2[i, 1] * P2[2] - P2[1]\n",
    "\n",
    "        # Solve the equation AX = 0 using SVD\n",
    "        U, S, Vt = np.linalg.svd(A)\n",
    "        X_nonhomogeneous = Vt[-1]\n",
    "        X_homogeneous = X_nonhomogeneous / X_nonhomogeneous[-1]  # Convert to homogeneous coordinates\n",
    "        # Append the result to the list\n",
    "        X.append(X_homogeneous)\n",
    "\n",
    "    # Convert list to a numpy array\n",
    "    X = np.array(X)\n",
    "    \n",
    "    return X"
   ]
  },
  {
   "cell_type": "markdown",
   "metadata": {},
   "source": [
    "# Find the correct solution\n",
    "\n",
    "Since decomposition of E will have four different solutions[(R1, t1), (R1, -t1), (R2, t1), (R2, -t1)]\n",
    "\n",
    "we need to find the one that is \"in front of\" the camera in which `depth > 0` for both camera"
   ]
  },
  {
   "cell_type": "code",
   "execution_count": 13,
   "metadata": {},
   "outputs": [],
   "source": [
    "import numpy as np\n",
    "\n",
    "def cheirality_check(X, P1, P2):\n",
    "    \"\"\"Performs a cheirality check to determine if 3D points are in front of both cameras.\n",
    "    \n",
    "    Args:\n",
    "    X: Array of triangulated 3D points in homogeneous coordinates, shape (N, 4).\n",
    "    P1: Projection matrix of the first camera, shape (3, 4).\n",
    "    P2: Projection matrix of the second camera, shape (3, 4).\n",
    "    \n",
    "    Returns:\n",
    "    Count of points that are in front of both cameras.\n",
    "    \"\"\"\n",
    "    # Compute the depth of the points in both cameras\n",
    "    depth1 = (P1[2, :] @ X.T)  # Z coordinate in camera 1 coordinate system\n",
    "    depth2 = (P2[2, :] @ X.T)  # Z coordinate in camera 2 coordinate system\n",
    "\n",
    "    print(f\"depth for camera 1:\\n{depth1}\\n\")\n",
    "    print(f\"depth for camera 2:\\n{depth2}\")\n",
    "    # The points are in front of both cameras if both depths are positive\n",
    "    count = np.sum((depth1 > 0) & (depth2 > 0))  # Count points in front of both cameras\n",
    "    print(\"\\nNumber of points in front of the camera:\",count)\n",
    "    return count\n",
    "\n",
    "def find_correct_solution(R1, R2, t1, t2, x1, x2, K1, K2):\n",
    "    \"\"\"\n",
    "    Finds the correct (R, t) combination by checking which solution keeps most points in front of both cameras.\n",
    "    \n",
    "    Args:\n",
    "    R1, R2: Two possible rotation matrices.\n",
    "    t1, t2: Two possible translation vectors.\n",
    "    x1: Array of 2D points in the first image (homogeneous coordinates), shape (N, 3).\n",
    "    x2: Array of 2D points in the second image (homogeneous coordinates), shape (N, 3).\n",
    "    K1: Intrinsic matrix of the first camera, shape (3, 3).\n",
    "    K2: Intrinsic matrix of the second camera, shape (3, 3).\n",
    "    \n",
    "    Returns:\n",
    "    The correct (R, t) combination.\n",
    "    \"\"\"\n",
    "    # Projection matrix for the first camera\n",
    "    P1 = K1 @ np.hstack((np.eye(3), np.zeros((3, 1))))  # [I | 0]\n",
    "    \n",
    "    # Four combinations of R and t\n",
    "    combinations = [\n",
    "        (R1, t1),\n",
    "        (R1, t2),\n",
    "        (R2, t1),\n",
    "        (R2, t2)\n",
    "    ]\n",
    "\n",
    "    best_count = 0\n",
    "\n",
    "    # Check all four solutions\n",
    "    for R, t in combinations:\n",
    "        print(\"-------------------------------------------------------\")\n",
    "        # Second camera projection matrix [R | t]\n",
    "        P2 = K2 @ np.hstack((R, t.reshape(-1, 1)))\n",
    "        \n",
    "        # Triangulate the 3D points for the current combination\n",
    "        X = triangulate_points(x1, x2, P1, P2)  # Triangulate multiple 3D points\n",
    "        print(f\"R: \\n{R}\")\n",
    "        print(f\"\\nt:\\n{t}\\n\")\n",
    "        print(f\"triangulation:\\n{X}\\n\")\n",
    "        # Perform cheirality check\n",
    "        \n",
    "        count = cheirality_check(X, P1, P2)  # Check how many points are in front of both cameras\n",
    "        \n",
    "        # Update the best solution if more points are in front of both cameras\n",
    "        if count > best_count:\n",
    "            best_count = count\n",
    "            best_R = R\n",
    "            best_t = t\n",
    "            best_triangulation = X\n",
    "    \n",
    "    return best_R, best_t, best_triangulation\n"
   ]
  },
  {
   "cell_type": "markdown",
   "metadata": {},
   "source": [
    "Main loop for finding best R and t"
   ]
  },
  {
   "cell_type": "code",
   "execution_count": null,
   "metadata": {},
   "outputs": [],
   "source": [
    "\n",
    "best_R, best_t, best_triangulation = find_correct_solution(R1, R2, t1, t2, X1_homogeneous, X2_homogeneous, K1, K2)\n",
    "print(f\"-------------------------------------------------------------------\")\n",
    "print(f\"-------------------------------------------------------------------\")\n",
    "print(f\"\\nbest_R: \\n{best_R} \\n\")\n",
    "print(f\"best_t: \\n{best_t} \\n\")\n",
    "print(f\"best_triangulation: \\n{best_triangulation}\")"
   ]
  },
  {
   "cell_type": "markdown",
   "metadata": {},
   "source": [
    "Setting up the R and t for both cameras"
   ]
  },
  {
   "cell_type": "code",
   "execution_count": null,
   "metadata": {},
   "outputs": [],
   "source": [
    "R_1 = np.eye(3)\n",
    "t_1 = np.zeros(3)\n",
    "\n",
    "print(f\"R_1:\\n{R_1}\\n\")\n",
    "print(f\"t_1:\\n{t_1}\\n\")\n",
    "\n",
    "# R and t are flattened as a 1D array for optimization\n",
    "R_t_1 = np.hstack([R_1.flatten(), t_1])  # Flatten R (rotation matrix) and append t (translation vector)\n",
    "\n",
    "print(\"R_t_1:\\n\", R_t_1)\n"
   ]
  },
  {
   "cell_type": "code",
   "execution_count": null,
   "metadata": {},
   "outputs": [],
   "source": [
    "R_2, t_2 = best_R,best_t\n",
    "\n",
    "print(f\"R_2:\\n{R_2}\\n\")\n",
    "print(f\"t_2:\\n{t_2}\\n\")\n",
    "\n",
    "# R and t are flattened as a 1D array for optimization\n",
    "R_t_2 = np.hstack([R_2.flatten(), t_2]) # Flatten R (rotation matrix) and append t (translation vector)\n",
    "\n",
    "print(\"R_t_2:\\n\", R_t_2)"
   ]
  },
  {
   "cell_type": "markdown",
   "metadata": {},
   "source": [
    "# Reprojection Loss\n",
    "\n",
    "After triangulating the points, we need to reproject it back to 2D as well as calculate the loss (between the image detected points and the reprojected points)."
   ]
  },
  {
   "cell_type": "markdown",
   "metadata": {},
   "source": [
    "Functions for constructing K and [R | t]"
   ]
  },
  {
   "cell_type": "code",
   "execution_count": 17,
   "metadata": {},
   "outputs": [],
   "source": [
    "def construct_K_matrix(params):\n",
    "    fx, fy, u0, v0 = params\n",
    "    return np.array([\n",
    "        [fx, 0, u0],\n",
    "        [0, fy, v0],\n",
    "        [0,  0,  1]\n",
    "    ])\n",
    "\n",
    "def extract_R_t(R_t):\n",
    "    R = R_t[:9].reshape(3,3)\n",
    "    t = R_t[9:]\n",
    "    return R, t"
   ]
  },
  {
   "cell_type": "markdown",
   "metadata": {},
   "source": [
    "Project points & normalization function"
   ]
  },
  {
   "cell_type": "code",
   "execution_count": 18,
   "metadata": {},
   "outputs": [],
   "source": [
    "def project_points(params, R_t, X_3d):\n",
    "    \"\"\"\n",
    "    Project 3D points to 2D using the camera parameters (not normalized)\n",
    "\n",
    "    :param params: Parameters of K [fx, fy, u0, v0]\n",
    "    :param R_t: 1D Flattened rotation and transalation matrix\n",
    "    :param X_3d: 3D Triangulated points [x, y, z, 1]\n",
    "    :return: 2D Projected points [x, y, z]\n",
    "\n",
    "    \"\"\"\n",
    "    K = construct_K_matrix(params)\n",
    "\n",
    "    R, t = extract_R_t(R_t)\n",
    "\n",
    "    projected_points = []\n",
    "    P = K @ np.hstack((R, t.reshape(-1, 1)))\n",
    "\n",
    "    for i in X_3d:\n",
    "        x = np.dot(P, i)\n",
    "        projected_points.append(x)\n",
    "    \n",
    "    projected_points = np.array(projected_points)\n",
    "\n",
    "    return projected_points\n",
    "\n",
    "def normalize_points(points):\n",
    "    \"\"\"\n",
    "    Normalizes given points.\n",
    "\n",
    "    :param points: 2D Projected points [x, y, z]\n",
    "    :return: Normalized 2D Projected points[x/z, y/z, 1]\n",
    "\n",
    "    \"\"\"\n",
    "    points_normalized = points / points[:, 2][:, np.newaxis]\n",
    "    \n",
    "    # Remove the third dimension\n",
    "    points_normalized_2dim = np.delete(points_normalized, 2, axis=1)\n",
    "\n",
    "    return points_normalized, points_normalized_2dim\n"
   ]
  },
  {
   "cell_type": "markdown",
   "metadata": {},
   "source": [
    "Loss function"
   ]
  },
  {
   "cell_type": "code",
   "execution_count": 19,
   "metadata": {},
   "outputs": [],
   "source": [
    "def loss_function(params, R_t, X_3d, x_2d):\n",
    "\n",
    "    x_proj = project_points(params, R_t, X_3d) # projected coordinates (2D)\n",
    "    x_proj = np.delete(x_proj, 2, axis=1) # removing the third element\n",
    "\n",
    "    error = [0]\n",
    "    x_2d = np.array(x_2d)\n",
    "    for n, point in enumerate(x_2d):\n",
    "        error_now = np.abs((point * X_3d[n, 2]) - x_proj[n])\n",
    "        # print((point * X[n, 2]), \"-\", x_proj[n])\n",
    "        # print(f\"= {error_now}\")\n",
    "        error_now_sum = np.sum(error_now)\n",
    "        error += error_now_sum\n",
    "\n",
    "    # print(\"error before division\", error, \"/\", (n+1))\n",
    "    error /= (n+1)\n",
    "    print(f\"error after division: {error}\")\n",
    "\n",
    "    return error"
   ]
  },
  {
   "cell_type": "markdown",
   "metadata": {},
   "source": [
    "Main Loop for Reprojecting Error (for displaying purposes)."
   ]
  },
  {
   "cell_type": "code",
   "execution_count": null,
   "metadata": {},
   "outputs": [],
   "source": [
    "projected_points= project_points(K1_params, R_t_1, best_triangulation)\n",
    "\n",
    "print(f\"Projected_points:\\n{projected_points}\\n\")\n",
    "\n",
    "# Remove the third element\n",
    "projected_points_2dim = np.delete(projected_points, 2, axis=1)\n",
    "\n",
    "print(f\"Projected_points_2dim:\\n{projected_points_2dim}\\n\")\n",
    "\n",
    "normalized_projected_points, normalized_projected_points_2dim = normalize_points(projected_points)\n",
    "\n",
    "print(f\"normalized_projected_points:\\n{normalized_projected_points}\\n\")\n",
    "print(f\"normalized_projected_points_2dim:\\n{normalized_projected_points_2dim}\\n\")\n",
    "\n",
    "print(\"\\n--------------------------------------------------\")\n",
    "\n",
    "# Calculate the losses\n",
    "loss_1 = loss_function(K1_params, R_t_1, best_triangulation, points2d_1)\n",
    "loss_2 = loss_function(K2_params, R_t_2, best_triangulation, points2d_2)\n",
    "\n",
    "# Print the losses\n",
    "print(f\"\\nloss_1: {loss_1}\")\n",
    "print(f\"loss_2: {loss_2}\")"
   ]
  },
  {
   "cell_type": "markdown",
   "metadata": {},
   "source": [
    "# Plotting\n",
    "\n",
    "plotting functions are important! Only print the normalized 2 dimension points."
   ]
  },
  {
   "cell_type": "code",
   "execution_count": 21,
   "metadata": {},
   "outputs": [],
   "source": [
    "import matplotlib.pyplot as plt\n",
    "\n",
    "def plot_points(points, name='Scatter Plot of New Coordinates'):\n",
    "    x_coords, y_coords = zip(*points)\n",
    "    width, height = 640, 480 \n",
    "\n",
    "    plt.figure(figsize=(6,5))\n",
    "    plt.scatter(x_coords, y_coords, c='red', marker='x')\n",
    "    plt.title(name)\n",
    "    plt.xlabel('X Coordinates')\n",
    "    plt.ylabel('Y Coordinates')\n",
    "    plt.xlim(0, width)\n",
    "    plt.ylim(height, 0)\n",
    "    plt.grid(True)\n",
    "    plt.show()\n"
   ]
  },
  {
   "cell_type": "markdown",
   "metadata": {},
   "source": [
    "Again, just for displaying."
   ]
  },
  {
   "cell_type": "code",
   "execution_count": null,
   "metadata": {},
   "outputs": [],
   "source": [
    "plot_points(normalized_projected_points_2dim)"
   ]
  },
  {
   "cell_type": "markdown",
   "metadata": {},
   "source": [
    "# Optimization of Intrinsic Parameters & Joint Optimization"
   ]
  },
  {
   "cell_type": "code",
   "execution_count": 23,
   "metadata": {},
   "outputs": [],
   "source": [
    "def optimize_intrinsic_parameters(params, R_t, X_3d, x_2d):\n",
    "    \"\"\"\n",
    "    Optimize intrinsic parameters using least squares\n",
    "\n",
    "    :param params: Parameters of K [fx, fy, u0, v0].\n",
    "    :param R_t: 1D Flattened rotation and transalation matrix.\n",
    "    :param X_3d: 3D Triangulated points [x, y, z, 1].\n",
    "    :param  x_2d: Image detected joints (groundtruth).\n",
    "    :return:  Optimized K, intrinsic parameter\n",
    "\n",
    "    \"\"\"\n",
    "\n",
    "    result = least_squares(loss_function, params, args=(R_t, X_3d, x_2d))\n",
    "    \n",
    "    optimized_params = result.x\n",
    "    \n",
    "    return optimized_params"
   ]
  },
  {
   "cell_type": "markdown",
   "metadata": {},
   "source": [
    "Main Loop for intrinsic optimization"
   ]
  },
  {
   "cell_type": "code",
   "execution_count": null,
   "metadata": {},
   "outputs": [],
   "source": [
    "# Optimize for camera 1\n",
    "K1_optimized_params = optimize_intrinsic_parameters(K1_params, R_t_1, best_triangulation, points2d_1)\n",
    "\n",
    "print(\"\\n-----------------------------------------------------------------------------\")\n",
    "# Optimize for camera 2\n",
    "K2_optimized_params = optimize_intrinsic_parameters(K2_params, R_t_2, best_triangulation, points2d_2)\n",
    "\n",
    "print(\"\\n-----------------------------------------------------------------------------\\n\")\n",
    "\n",
    "print(\"Optimized K1:\")\n",
    "print(K1_optimized_params)\n",
    "\n",
    "print(\"\\nOptimized K2:\")\n",
    "print(K2_optimized_params)"
   ]
  },
  {
   "cell_type": "markdown",
   "metadata": {},
   "source": [
    "Debating whether to run this or not"
   ]
  },
  {
   "cell_type": "code",
   "execution_count": null,
   "metadata": {},
   "outputs": [],
   "source": [
    "K1_new = construct_K_matrix(K1_optimized_params)\n",
    "K2_new = construct_K_matrix(K2_optimized_params)\n",
    "\n",
    "P1 = K1_new @ np.hstack((np.eye(3), np.zeros((3, 1))))  # [I | 0]\n",
    "P2 = K2_new @ np.hstack((best_R, best_t.reshape(-1, 1)))\n",
    "\n",
    "X_3D_nigga = triangulate_points(X1_homogeneous, X2_homogeneous, P1, P2)\n",
    "\n",
    "x_2d = project_points(K1_optimized_params, R_t_1, X_3D_nigga)\n",
    "\n",
    "print(\"x_2d:\",x_2d)\n",
    "\n",
    "normalized, normalized_2d = normalize_points(x_2d)\n",
    "\n",
    "print(\"\\nnormalized\\n\", normalized, \"\\normalized_2d\\n\", normalized_2d)"
   ]
  },
  {
   "cell_type": "markdown",
   "metadata": {},
   "source": [
    "Plotting the results"
   ]
  },
  {
   "cell_type": "code",
   "execution_count": null,
   "metadata": {},
   "outputs": [],
   "source": [
    "plot_points(normalized_projected_points_2dim, \"before optimized K1 and K2\"), plot_points(normalized_2d, \"with optimized K1 and K2\"), plot_points(points2d_1, \"ground truth\")"
   ]
  },
  {
   "cell_type": "code",
   "execution_count": 27,
   "metadata": {},
   "outputs": [],
   "source": [
    "def optimize_extrinsic_parameters(params, R_t, X_3d, x_2d):\n",
    "    \"\"\"\n",
    "    Optimize extrinsic parameters using least squares\n",
    "\n",
    "    params: K1_init, K2_init: Initial 3x3 intrinsic matrices for camera 1 and 2\n",
    "    params: R, t: Relative extrinsic parameters between the two cameras\n",
    "    params: X_3d: Nx3 array of 3D points (triangulated human body joints)\n",
    "    params: x_2d_1, x_2d_2: Nx2 arrays of 2D points for camera 1 and 2\n",
    "\n",
    "    \"\"\"\n",
    "    def loss_function_extrinsic(R_t, params, X_3d, x_2d): # important\n",
    "        return loss_function(params, R_t, X_3d, x_2d)\n",
    "\n",
    "    result = least_squares(loss_function_extrinsic, R_t, args=(params, X_3d, x_2d), method='trf')\n",
    "    \n",
    "    optimized_params = result.x\n",
    "    # R = optimized_params[:9].reshape(3,3)\n",
    "    # t = optimized_params[9:]\n",
    "    \n",
    "    # extrinsic_optimized = (R, t.reshape(-1, 1))\n",
    "    \n",
    "    return optimized_params"
   ]
  },
  {
   "cell_type": "code",
   "execution_count": 28,
   "metadata": {},
   "outputs": [],
   "source": [
    "def joint_optimization(K1_params, K2_params, R_t_1, R_t_2, triangulated_point, X1_homogeneous=X1_homogeneous, X2_homogeneous=X2_homogeneous):\n",
    "    # Optimize extrinsic parameters\n",
    "    R_t_1_opt = optimize_extrinsic_parameters(K1_params, R_t_1, triangulated_point, points2d_1)\n",
    "    print(\"\\n-----------------------------------------------------------------------------\")\n",
    "    R_t_2_opt = optimize_extrinsic_parameters(K2_params, R_t_2, triangulated_point, points2d_2)\n",
    "\n",
    "    print(\"Optimized R_t_1:\")\n",
    "    print(R_t_1_opt)\n",
    "    print(\"\\nOptimized R_t_2:\")\n",
    "    print(R_t_2_opt)\n",
    "\n",
    "    # Extract R and t from optimized parameters\n",
    "    R_1_opt, t_1_opt = extract_R_t(R_t_1_opt)\n",
    "    R_2_opt, t_2_opt = extract_R_t(R_t_2_opt)\n",
    "\n",
    "    # Optimize intrinsic parameters\n",
    "    K1_optimized_params = optimize_intrinsic_parameters(K1_params, R_t_1_opt, triangulated_point, points2d_1)\n",
    "    print(\"\\n-----------------------------------------------------------------------------\")\n",
    "    K2_optimized_params = optimize_intrinsic_parameters(K2_params, R_t_2_opt, triangulated_point, points2d_2)\n",
    "\n",
    "    print(\"Optimized K1:\")\n",
    "    print(K1_optimized_params)\n",
    "    print(\"\\nOptimized K2:\")\n",
    "    print(K2_optimized_params)\n",
    "\n",
    "    # Reconstruct final K matrices\n",
    "    K1_final = construct_K_matrix(K1_optimized_params)\n",
    "    K2_final = construct_K_matrix(K2_optimized_params)\n",
    "\n",
    "    # Final triangulation\n",
    "    P1_final = K1_final @ np.hstack((R_1_opt, t_1_opt.reshape(-1, 1)))\n",
    "    P2_final = K2_final @ np.hstack((R_2_opt, t_2_opt.reshape(-1, 1)))\n",
    "    X_3D_final = triangulate_points(X1_homogeneous, X2_homogeneous, P1_final, P2_final)\n",
    "\n",
    "    return K1_optimized_params, K2_optimized_params, R_t_1_opt, R_t_2_opt, X_3D_final"
   ]
  },
  {
   "cell_type": "markdown",
   "metadata": {},
   "source": [
    "Main Loop for joint optimization"
   ]
  },
  {
   "cell_type": "code",
   "execution_count": null,
   "metadata": {},
   "outputs": [],
   "source": [
    "K1_final, K2_final, R_t_1_final, R_t_2_final, X_3D_final = joint_optimization(K1_optimized_params, K2_optimized_params, R_t_1, R_t_2, best_triangulation)\n",
    "\n",
    "# Incursive\n",
    "for i in range(2):\n",
    "        K1_final, K2_final, R_t_1_final, R_t_2_final, X_3D_final= joint_optimization(K1_final, K2_final, R_t_1_final, R_t_2_final, X_3D_final)\n",
    "\n",
    "print(\"\\n---------------------------------------------------------------------\")\n",
    "print(\"final\")\n",
    "print(\"---------------------------------------------------------------------\\n\")\n",
    "print(f\"K1_final: \\n{K1_final}\\n\")\n",
    "print(f\"K2_final: \\n{K2_final}\\n\")\n",
    "print(f\"R_t_1_final: \\n{R_t_1_final}\\n\")\n",
    "print(f\"R_t_2_final: \\n{R_t_2_final}\\n\")\n",
    "print(f\"X_3D_final: \\n{X_3D_final}\\n\")"
   ]
  },
  {
   "cell_type": "markdown",
   "metadata": {},
   "source": [
    "Plotting the points after optimization."
   ]
  },
  {
   "cell_type": "code",
   "execution_count": null,
   "metadata": {},
   "outputs": [],
   "source": [
    "# For Camera 1\n",
    "x_2d_cam1 = project_points(K1_final, R_t_1_final, X_3D_final)\n",
    "\n",
    "print(\"x_2d_cam1:\\n\",x_2d_cam1)\n",
    "\n",
    "normalized_cam1, normalized_2d_cam1 = normalize_points(x_2d_cam1)\n",
    "\n",
    "print(\"\\nnormalized\\n\", normalized_cam1, \"\\nnormalized_2d\\n\", normalized_2d_cam1)\n",
    "\n",
    "plot_points(normalized_2d_cam1, \"with optimized K1\"), plot_points(points2d_1, \"ground truth\")\n",
    "\n",
    "# For camera 2\n",
    "x_2d_cam2 = project_points(K2_final, R_t_2_final, X_3D_final)\n",
    "\n",
    "print(\"x_2d_cam2:\\n\",x_2d_cam2)\n",
    "\n",
    "normalized_cam2, normalized_2d_cam2 = normalize_points(x_2d_cam2)\n",
    "\n",
    "print(\"\\nnormalized\\n\", normalized_cam2, \"\\nnormalized_2d\\n\", normalized_2d_cam2)\n",
    "\n",
    "plot_points(normalized_2d_cam2, \"with optimized K2\"), plot_points(points2d_2, \"ground truth\")"
   ]
  }
 ],
 "metadata": {
  "kernelspec": {
   "display_name": "pgc_env",
   "language": "python",
   "name": "python3"
  },
  "language_info": {
   "codemirror_mode": {
    "name": "ipython",
    "version": 3
   },
   "file_extension": ".py",
   "mimetype": "text/x-python",
   "name": "python",
   "nbconvert_exporter": "python",
   "pygments_lexer": "ipython3",
   "version": "3.12.3"
  }
 },
 "nbformat": 4,
 "nbformat_minor": 2
}
